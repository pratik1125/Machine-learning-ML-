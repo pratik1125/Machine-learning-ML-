{
  "nbformat": 4,
  "nbformat_minor": 0,
  "metadata": {
    "colab": {
      "provenance": [],
      "authorship_tag": "ABX9TyNTuDAbj60h55DUwgpe5Vz4",
      "include_colab_link": true
    },
    "kernelspec": {
      "name": "python3",
      "display_name": "Python 3"
    },
    "language_info": {
      "name": "python"
    }
  },
  "cells": [
    {
      "cell_type": "markdown",
      "metadata": {
        "id": "view-in-github",
        "colab_type": "text"
      },
      "source": [
        "<a href=\"https://colab.research.google.com/github/pratik1125/Machine-learning-ML-/blob/main/Basic_of_Numpy.ipynb\" target=\"_parent\"><img src=\"https://colab.research.google.com/assets/colab-badge.svg\" alt=\"Open In Colab\"/></a>"
      ]
    },
    {
      "cell_type": "code",
      "execution_count": 2,
      "metadata": {
        "colab": {
          "base_uri": "https://localhost:8080/",
          "height": 36
        },
        "id": "nAeLpTAyKjw1",
        "outputId": "f9c19566-d298-48ad-dcbc-90a30208482b"
      },
      "outputs": [
        {
          "output_type": "execute_result",
          "data": {
            "text/plain": [
              "'1.25.2'"
            ],
            "application/vnd.google.colaboratory.intrinsic+json": {
              "type": "string"
            }
          },
          "metadata": {},
          "execution_count": 2
        }
      ],
      "source": [
        "import numpy as np\n",
        "np.__version__"
      ]
    },
    {
      "cell_type": "code",
      "source": [
        "#Declare one variable to store ndarray\n",
        "arr=np.array([1,2,3,4,5,6,7])\n",
        "arr\n",
        "type(arr)"
      ],
      "metadata": {
        "colab": {
          "base_uri": "https://localhost:8080/"
        },
        "id": "_HkD5gwBKlye",
        "outputId": "598a972d-27bc-4cd5-9e8f-ea378790ae78"
      },
      "execution_count": 4,
      "outputs": [
        {
          "output_type": "execute_result",
          "data": {
            "text/plain": [
              "numpy.ndarray"
            ]
          },
          "metadata": {},
          "execution_count": 4
        }
      ]
    },
    {
      "cell_type": "code",
      "source": [
        "#Convert a list to array\n",
        "a=[\"MCA\",48,8.60]\n",
        "arr=np.array(a)\n",
        "print(type(a),type(arr))\n",
        "print(arr)"
      ],
      "metadata": {
        "colab": {
          "base_uri": "https://localhost:8080/"
        },
        "id": "lMHhnl79LQXe",
        "outputId": "77d3fddf-29e1-4b7f-dee8-b411ce6ad297"
      },
      "execution_count": 6,
      "outputs": [
        {
          "output_type": "stream",
          "name": "stdout",
          "text": [
            "<class 'list'> <class 'numpy.ndarray'>\n",
            "['MCA' '48' '8.6']\n"
          ]
        }
      ]
    },
    {
      "cell_type": "code",
      "source": [
        "#Convet a tuple to array\n",
        "tuple=(\"Pratik\",47,88)\n",
        "tarray=np.array(tuple)\n",
        "print(type(tuple),type(tarray))\n",
        "print(tarray)"
      ],
      "metadata": {
        "colab": {
          "base_uri": "https://localhost:8080/"
        },
        "id": "i1rbDdIoLmZ1",
        "outputId": "1164e3f8-4ea1-4bca-aa31-1142d924c185"
      },
      "execution_count": 7,
      "outputs": [
        {
          "output_type": "stream",
          "name": "stdout",
          "text": [
            "<class 'tuple'> <class 'numpy.ndarray'>\n",
            "['Pratik' '47' '88']\n"
          ]
        }
      ]
    },
    {
      "cell_type": "code",
      "source": [
        "#Assignment\n",
        "#Create a v(ariablr T1 and assign tuple to it\n",
        "\n",
        "t1=(\"Pratik\",\"Dewoo\",\"Sawant\")\n",
        "#Create array from tuple\n",
        "tarray=np.array(t1)\n",
        "#Check the type\n",
        "print(type(t1),type(tarray))\n",
        "#Print the array\n",
        "print(tarray)\n"
      ],
      "metadata": {
        "colab": {
          "base_uri": "https://localhost:8080/"
        },
        "id": "ip5NmAydL0P8",
        "outputId": "81797152-fdd5-40c8-d6ff-8a251abf8236"
      },
      "execution_count": 9,
      "outputs": [
        {
          "output_type": "stream",
          "name": "stdout",
          "text": [
            "<class 'tuple'> <class 'numpy.ndarray'>\n",
            "['Pratik' 'Dewoo' 'Sawant']\n"
          ]
        }
      ]
    },
    {
      "cell_type": "code",
      "source": [
        "#Dimension in array\n",
        "arr=np.array([[1,2,3],[4,5,6]])\n",
        "print(arr)\n",
        "print(arr.ndim)\n",
        "print(type(arr))\n",
        "print(arr.shape)"
      ],
      "metadata": {
        "colab": {
          "base_uri": "https://localhost:8080/"
        },
        "id": "4rlc9zk5MJ_P",
        "outputId": "2e368ff8-6b56-4251-9fff-9396a9c2027f"
      },
      "execution_count": 12,
      "outputs": [
        {
          "output_type": "stream",
          "name": "stdout",
          "text": [
            "[[1 2 3]\n",
            " [4 5 6]]\n",
            "2\n",
            "<class 'numpy.ndarray'>\n",
            "(2, 3)\n"
          ]
        }
      ]
    },
    {
      "cell_type": "code",
      "source": [
        "#3d Arrays\n",
        "#arr=np.array([[[1,3,5],[4,5,6],[99,22,34],[44,48,56]]])\n",
        "arr = np.array([[[1,3,4],[4,5,6]] , [[2,3,4],[4,6,9]]])\n",
        "print(arr)\n",
        "print(arr.ndim)\n",
        "print(type(arr))\n",
        "print(arr.shape)"
      ],
      "metadata": {
        "colab": {
          "base_uri": "https://localhost:8080/"
        },
        "id": "0XdnpF4sMlhS",
        "outputId": "e36605cd-119d-435e-cc7c-1010955f3245"
      },
      "execution_count": 16,
      "outputs": [
        {
          "output_type": "stream",
          "name": "stdout",
          "text": [
            "[[[1 3 4]\n",
            "  [4 5 6]]\n",
            "\n",
            " [[2 3 4]\n",
            "  [4 6 9]]]\n",
            "3\n",
            "<class 'numpy.ndarray'>\n",
            "(2, 2, 3)\n"
          ]
        }
      ]
    },
    {
      "cell_type": "code",
      "source": [
        "#Accessing array\n",
        "arr=np.array((1,2,3,4,5,6,7))\n",
        "print(arr[0],arr[2])\n",
        "print(\"Sum of two index is : \",arr[1] + arr[4] )"
      ],
      "metadata": {
        "colab": {
          "base_uri": "https://localhost:8080/"
        },
        "id": "wuV80EpnMlVF",
        "outputId": "cffdecf1-1dff-4613-ab06-e10f9764bcf5"
      },
      "execution_count": 18,
      "outputs": [
        {
          "output_type": "stream",
          "name": "stdout",
          "text": [
            "1 3\n",
            "Sum of two index is :  7\n"
          ]
        }
      ]
    },
    {
      "cell_type": "code",
      "source": [
        "# access the elements -> row (dimensions) column(index)\n",
        "arr = np.array([[1,2,3,4,5],[6,7,8,9,10]])\n",
        "print(arr)\n",
        "# access the first row and second column\n",
        "print(arr[0,1])\n",
        "# access the second row and fifth column\n",
        "print(arr[1,4])"
      ],
      "metadata": {
        "colab": {
          "base_uri": "https://localhost:8080/"
        },
        "id": "oLpWjVTCObf0",
        "outputId": "c7d7bc75-35ae-44b5-8c05-5c0de6b6c0ea"
      },
      "execution_count": 22,
      "outputs": [
        {
          "output_type": "stream",
          "name": "stdout",
          "text": [
            "[[ 1  2  3  4  5]\n",
            " [ 6  7  8  9 10]]\n",
            "2\n",
            "10\n"
          ]
        }
      ]
    },
    {
      "cell_type": "code",
      "source": [
        "arr = np.array([[[1,3,4],[4,5,6]] , [[2,3,4],[4,6,9]]])\n",
        "print(arr)\n",
        "print(arr[0,1,2])\n",
        "print(\"--------------\")\n",
        "# accessing the second element of the first array of the second array\n",
        "print(arr[1,0,1])\n",
        "# accessing the second element of the second array of the second array\n",
        "print(arr[1,1,1])"
      ],
      "metadata": {
        "colab": {
          "base_uri": "https://localhost:8080/"
        },
        "id": "lijn7rgYOmxQ",
        "outputId": "558966bf-9bae-41b1-8451-3bb55bc0faa0"
      },
      "execution_count": 25,
      "outputs": [
        {
          "output_type": "stream",
          "name": "stdout",
          "text": [
            "[[[1 3 4]\n",
            "  [4 5 6]]\n",
            "\n",
            " [[2 3 4]\n",
            "  [4 6 9]]]\n",
            "6\n",
            "--------------\n",
            "3\n",
            "6\n"
          ]
        }
      ]
    }
  ]
}